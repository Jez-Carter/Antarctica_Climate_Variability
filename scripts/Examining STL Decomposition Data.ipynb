{
 "cells": [
  {
   "cell_type": "code",
   "execution_count": 2,
   "id": "909cc8ba-76e3-46fa-846c-d4f82e9d2c22",
   "metadata": {},
   "outputs": [],
   "source": [
    "import numpy as np"
   ]
  },
  {
   "cell_type": "code",
   "execution_count": 3,
   "id": "523e1c7f-f4ee-40ac-9e1b-45214d636d7e",
   "metadata": {},
   "outputs": [],
   "source": [
    "input_full_path = '/home/users/carter10/Bin/ensemble_temp.npy'\n",
    "ensemble = np.load(input_full_path).astype('float32')"
   ]
  },
  {
   "cell_type": "code",
   "execution_count": 5,
   "id": "7a0aa8ae-0453-4977-8166-fc01d47e0f6d",
   "metadata": {},
   "outputs": [
    {
     "data": {
      "text/plain": [
       "(8, 24, 392, 504)"
      ]
     },
     "execution_count": 5,
     "metadata": {},
     "output_type": "execute_result"
    }
   ],
   "source": [
    "ensemble.shape"
   ]
  },
  {
   "cell_type": "code",
   "execution_count": null,
   "id": "28bb62bd-0142-44ad-8491-56b979429fcf",
   "metadata": {},
   "outputs": [],
   "source": [
    "np.save(path+'ensemble_stl_decomposition_melt',ensemble_stl_decomp)"
   ]
  },
  {
   "cell_type": "code",
   "execution_count": 7,
   "id": "1caf2e7c-c195-4011-976b-73ee431c6b67",
   "metadata": {},
   "outputs": [],
   "source": [
    "from dask.diagnostics import ProgressBar\n",
    "pbar = ProgressBar()\n",
    "pbar.register()"
   ]
  },
  {
   "cell_type": "code",
   "execution_count": 11,
   "id": "febf0ab7-f605-48ac-9c5f-e0ec9ab879c9",
   "metadata": {},
   "outputs": [
    {
     "name": "stdout",
     "output_type": "stream",
     "text": [
      "[########################################] | 100% Completed | 12min 18.8s\n"
     ]
    }
   ],
   "source": [
    "import dask.array as da\n",
    "from src.helper_functions import stl_decomposition\n",
    "\n",
    "start_date = '1-1-1981'\n",
    "frequency='M'\n",
    "input_full_path = '/home/users/carter10/Bin/ensemble_temp.npy'\n",
    "destination_full_path = '/home/users/carter10/Bin/ensemble_temp_stl.npy'\n",
    "\n",
    "ensemble = np.load(input_full_path).astype('float32')\n",
    "#ensemble_dask = da.from_array(ensemble, chunks=(8,456, 28,28))\n",
    "ensemble_dask = da.from_array(ensemble, chunks=(8,24, 28,28))\n",
    "\n",
    "input_data = ensemble_dask[:,:,:,:]\n",
    "dtype = input_data.dtype\n",
    "output_shape = (3,24)\n",
    "\n",
    "ensemble_stl_decomp_dask = da.apply_along_axis(stl_decomposition, axis=1, arr=input_data, start_date=start_date,frequency=frequency, dtype=dtype, shape = output_shape)\n",
    "\n",
    "ensemble_stl_decomp = ensemble_stl_decomp_dask.compute(scheduler = 'processes')\n",
    "\n",
    "np.save(destination_full_path,ensemble_stl_decomp)"
   ]
  },
  {
   "cell_type": "code",
   "execution_count": 12,
   "id": "56428201-09ef-4529-8293-ad1ac1093b0d",
   "metadata": {},
   "outputs": [],
   "source": [
    "ensemble_stl = np.load('/home/users/carter10/Bin/ensemble_temp_stl.npy').astype('float32')\n"
   ]
  },
  {
   "cell_type": "code",
   "execution_count": 13,
   "id": "c7c81410-8066-48ba-acc4-0793fc9ecf6c",
   "metadata": {},
   "outputs": [
    {
     "data": {
      "text/plain": [
       "(8, 3, 24, 392, 504)"
      ]
     },
     "execution_count": 13,
     "metadata": {},
     "output_type": "execute_result"
    }
   ],
   "source": [
    "ensemble_stl.shape"
   ]
  }
 ],
 "metadata": {
  "kernelspec": {
   "display_name": "cordex-analysis-env",
   "language": "python",
   "name": "cordex-analysis-env"
  },
  "language_info": {
   "codemirror_mode": {
    "name": "ipython",
    "version": 3
   },
   "file_extension": ".py",
   "mimetype": "text/x-python",
   "name": "python",
   "nbconvert_exporter": "python",
   "pygments_lexer": "ipython3",
   "version": "3.7.8"
  }
 },
 "nbformat": 4,
 "nbformat_minor": 5
}
