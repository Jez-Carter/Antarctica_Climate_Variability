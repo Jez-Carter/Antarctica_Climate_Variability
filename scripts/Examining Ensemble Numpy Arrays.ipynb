{
 "cells": [
  {
   "cell_type": "code",
   "execution_count": 1,
   "id": "b07ab1a0-4433-4afe-8994-c1df9e5ec226",
   "metadata": {},
   "outputs": [],
   "source": [
    "import numpy as np"
   ]
  },
  {
   "cell_type": "code",
   "execution_count": 3,
   "id": "bffe1f92-c4fc-4bbc-b642-948f4608b229",
   "metadata": {},
   "outputs": [],
   "source": [
    "array = np.load('/home/users/carter10/Bin/ensemble_temp.npy')"
   ]
  },
  {
   "cell_type": "code",
   "execution_count": 4,
   "id": "5f3935d9-eb07-41ad-8464-c24386311d81",
   "metadata": {},
   "outputs": [
    {
     "data": {
      "text/plain": [
       "(8, 24, 392, 504)"
      ]
     },
     "execution_count": 4,
     "metadata": {},
     "output_type": "execute_result"
    }
   ],
   "source": [
    "array.shape"
   ]
  }
 ],
 "metadata": {
  "kernelspec": {
   "display_name": "cordex-analysis-env",
   "language": "python",
   "name": "cordex-analysis-env"
  },
  "language_info": {
   "codemirror_mode": {
    "name": "ipython",
    "version": 3
   },
   "file_extension": ".py",
   "mimetype": "text/x-python",
   "name": "python",
   "nbconvert_exporter": "python",
   "pygments_lexer": "ipython3",
   "version": "3.7.8"
  }
 },
 "nbformat": 4,
 "nbformat_minor": 5
}
