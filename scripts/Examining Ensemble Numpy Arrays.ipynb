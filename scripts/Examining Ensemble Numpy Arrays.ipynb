{
 "cells": [
  {
   "cell_type": "markdown",
   "id": "498dcef5-5c03-4beb-9fa3-09e33f627559",
   "metadata": {},
   "source": [
    "This notebook takes < ?mins to run top-to-bottom."
   ]
  },
  {
   "cell_type": "markdown",
   "id": "b576fb54-daa5-4ad4-b24d-4a7acad35e3b",
   "metadata": {},
   "source": [
    "# This is a notebook for examining data after the regridded netcdf data is stored as one large memory numpy array."
   ]
  },
  {
   "cell_type": "markdown",
   "id": "9ec4fecb-25ce-4294-8398-4dae4f519951",
   "metadata": {
    "tags": []
   },
   "source": [
    "## Description of regridded data"
   ]
  },
  {
   "cell_type": "markdown",
   "id": "99108b0e-00c7-41b2-a261-3d40cc67e6c5",
   "metadata": {},
   "source": [
    "See '/scripts/Examining Regridded Data' to experiment with the regridded data.\n",
    "\n",
    "General Features:\n",
    "- The lat/lon coordinates are all the same and matched to the MetUM(011) grid, which has shape [392,504]\n",
    "- The time coordinate units are nearly all the same, which is the middle of each month e.g. [cftime.DatetimeGregorian(2000, 1, 16, 12, 0, 0, 0)] and units are days since 1979-01-01.\n",
    "- The files all come in batches of single years.\n",
    "- All files have 2D real latitude and longitude auxilliary coordinates.\n",
    "- The units for temperature are all the same (monthly mean values of degrees Kelvin) and for snowfall and melt the units are all the total monthly accumulation. "
   ]
  },
  {
   "cell_type": "markdown",
   "id": "cb850dab-99e6-469b-9340-527df3f56a82",
   "metadata": {},
   "source": [
    "## Description of turning into Numpy ensemble array process"
   ]
  },
  {
   "cell_type": "markdown",
   "id": "0e549ed2-f217-4905-bfb4-5298cc330bbc",
   "metadata": {},
   "source": [
    "See '/scripts/creating_numpy_ensemble_arrays.py' for the code used.\n",
    "\n",
    "General Process:\n",
    "- A list of filenames excluding the years are passed to the save_ensemble_numpy_array() function.\n",
    "- For every filename each years data is loaded and aggregated together to form an array of for example [456,392,504] shape. \n",
    "- The arrays for each model are concatenated into an array of shape [8,456,392,504], which is approximately 5GB in size.\n",
    "- This is done for each variable.\n"
   ]
  },
  {
   "cell_type": "markdown",
   "id": "2ad7dc99-995d-4af1-b0e7-f7cea21f1ec2",
   "metadata": {},
   "source": [
    "## Examining Numpy Arrays"
   ]
  },
  {
   "cell_type": "code",
   "execution_count": 1,
   "id": "b07ab1a0-4433-4afe-8994-c1df9e5ec226",
   "metadata": {},
   "outputs": [],
   "source": [
    "import numpy as np"
   ]
  },
  {
   "cell_type": "code",
   "execution_count": 2,
   "id": "841684aa-f336-49bc-b384-6f307aee6b3e",
   "metadata": {},
   "outputs": [],
   "source": [
    "path = '/home/users/carter10/Shared_Storage/Antarctica_Climate_Variability/Ensemble_Array_Data/'\n",
    "filenames = ['ensemble_temperature.npy','ensemble_snowfall.npy','ensemble_melt.npy']\n",
    "models = ['ERAI','ERA5','MetUM(044)','MetUM(011)','MAR(ERAI)','MAR(ERA5)', 'RACMO(ERAI)','RACMO(ERA5)'] "
   ]
  },
  {
   "cell_type": "code",
   "execution_count": 3,
   "id": "7d5cf1ad-1ffe-435e-b345-6ae0b267b569",
   "metadata": {},
   "outputs": [
    {
     "name": "stdout",
     "output_type": "stream",
     "text": [
      "ensemble_temperature.npy (8, 456, 392, 504)\n",
      "ERAI mean: 252.90306306412427\n",
      "ERA5 mean: 252.58226644194502\n",
      "MetUM(044) mean: 249.06338001539297\n",
      "MetUM(011) mean: 253.52586767850792\n",
      "MAR(ERAI) mean: 240.06339303031785\n",
      "MAR(ERA5) mean: 240.09962799900043\n",
      "RACMO(ERAI) mean: 253.82444501962564\n",
      "RACMO(ERA5) mean: 253.9567385176453\n",
      "ensemble_snowfall.npy (8, 456, 392, 504)\n",
      "ERAI sum: 320892.7895949076 GT\n",
      "ERA5 sum: 458001.03274675034 GT\n",
      "MetUM(044) sum: 426800.131749482 GT\n",
      "MetUM(011) sum: 440943.4422343284 GT\n",
      "MAR(ERAI) sum: 316368.90886961576 GT\n",
      "MAR(ERA5) sum: 316160.5723313059 GT\n",
      "RACMO(ERAI) sum: 460252.2770694537 GT\n",
      "RACMO(ERA5) sum: 468947.9094636351 GT\n",
      "ensemble_melt.npy (8, 456, 392, 504)\n",
      "ERAI sum: 11184.738778477895 GT\n",
      "ERA5 sum: 945.8340941767267 GT\n",
      "MetUM(044) sum: 7885.803915864952 GT\n",
      "MetUM(011) sum: 8018.934510512005 GT\n",
      "MAR(ERAI) sum: 7010.277716247861 GT\n",
      "MAR(ERA5) sum: 7133.100070498685 GT\n",
      "RACMO(ERAI) sum: 4713.054864727583 GT\n",
      "RACMO(ERA5) sum: 4611.78198985492 GT\n"
     ]
    }
   ],
   "source": [
    "for file in filenames:\n",
    "    array = np.load(f'{path}{file}')\n",
    "    print(file,array.shape)\n",
    "    for model,index in zip(models,np.arange(0,8,1)):\n",
    "        model_data = array[index]\n",
    "        if 'temperature' in file:\n",
    "            print(model, 'mean:', model_data.mean())\n",
    "        else:\n",
    "            print(model, 'sum:',f'{model_data.sum()*12250*12250/10**12} GT')"
   ]
  }
 ],
 "metadata": {
  "kernelspec": {
   "display_name": "cordex-analysis-env",
   "language": "python",
   "name": "cordex-analysis-env"
  },
  "language_info": {
   "codemirror_mode": {
    "name": "ipython",
    "version": 3
   },
   "file_extension": ".py",
   "mimetype": "text/x-python",
   "name": "python",
   "nbconvert_exporter": "python",
   "pygments_lexer": "ipython3",
   "version": "3.7.8"
  }
 },
 "nbformat": 4,
 "nbformat_minor": 5
}
