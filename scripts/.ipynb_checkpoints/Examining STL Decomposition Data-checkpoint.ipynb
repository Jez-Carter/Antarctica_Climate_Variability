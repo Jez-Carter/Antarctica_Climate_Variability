{
 "cells": [
  {
   "cell_type": "code",
   "execution_count": null,
   "id": "526546df-2245-4cb6-bc1e-2a368802e1df",
   "metadata": {},
   "outputs": [],
   "source": [
    "from dask.distributed import Client\n",
    "from dask.diagnostics import ProgressBar\n",
    "from dask import delayed"
   ]
  },
  {
   "cell_type": "code",
   "execution_count": null,
   "id": "2c55298a-9798-4f4f-b0c0-676542d15c65",
   "metadata": {},
   "outputs": [],
   "source": [
    "#client = Client(n_workers=3)\n",
    "\n",
    "pbar = ProgressBar()\n",
    "pbar.register()"
   ]
  },
  {
   "cell_type": "code",
   "execution_count": null,
   "id": "dd8ffcf7-53cb-488e-a972-9b5a31f06a45",
   "metadata": {},
   "outputs": [],
   "source": [
    "def stl_decomposition(timeseries):\n",
    "    data = timeseries[:]\n",
    "    ds = pd.Series(data, index=pd.date_range('1-1-1979', periods=len(data), freq='M'), name = 'Melt')\n",
    "    stl = STL(ds, seasonal=13)\n",
    "    #stl = STL(ds, seasonal=13,robust=True)\n",
    "    res = stl.fit()\n",
    "    \n",
    "    return ([res.trend,res.seasonal,res.resid]) "
   ]
  },
  {
   "cell_type": "code",
   "execution_count": null,
   "id": "c9dc899d-36f2-42e8-974b-ebdde7bc6038",
   "metadata": {},
   "outputs": [],
   "source": [
    "os.chdir(os.path.expanduser(\"~\"))\n",
    "os.chdir(os.path.expanduser(\"data\"))\n",
    "ensemble = np.load('ensemble_melt_monthly.npy').astype('float32')"
   ]
  }
 ],
 "metadata": {
  "kernelspec": {
   "display_name": "cordex-analysis-env",
   "language": "python",
   "name": "cordex-analysis-env"
  },
  "language_info": {
   "codemirror_mode": {
    "name": "ipython",
    "version": 3
   },
   "file_extension": ".py",
   "mimetype": "text/x-python",
   "name": "python",
   "nbconvert_exporter": "python",
   "pygments_lexer": "ipython3",
   "version": "3.7.8"
  }
 },
 "nbformat": 4,
 "nbformat_minor": 5
}
