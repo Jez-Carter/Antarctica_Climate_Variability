{
 "cells": [
  {
   "cell_type": "code",
   "execution_count": 1,
   "id": "7c191840-7622-4116-bb99-5e6d893a1580",
   "metadata": {},
   "outputs": [],
   "source": [
    "import numpy as np\n",
    "from tqdm import tqdm\n",
    "import dask\n",
    "import dask.delayed as delayed\n",
    "from scipy.stats.stats import pearsonr\n",
    "from src.helper_functions import multi_apply_along_axis\n"
   ]
  },
  {
   "cell_type": "code",
   "execution_count": 2,
   "id": "a1c82f02-ebe6-4561-9ad1-2c937a38659c",
   "metadata": {},
   "outputs": [],
   "source": [
    "data_dir = '/home/users/carter10/Shared_Storage/Google_Bucket_Transfer/'"
   ]
  },
  {
   "cell_type": "code",
   "execution_count": 3,
   "id": "ec4fe114-62fd-4354-b6b6-2dfd9fa1fde4",
   "metadata": {},
   "outputs": [],
   "source": [
    "ensemble_stl_decomp_temp = np.load(f'{data_dir}ensemble_stl_decomposition_temp.npy',mmap_mode = 'r').astype('float32')\n",
    "# ensemble_stl_decomp_snow = np.load(f'{data_dir}ensemble_stl_decomposition.npy',mmap_mode = 'r').astype('float32')\n",
    "# ensemble_stl_decomp_melt = np.load(f'{data_dir}ensemble_stl_decomposition_melt.npy',mmap_mode = 'r').astype('float32')"
   ]
  },
  {
   "cell_type": "code",
   "execution_count": 13,
   "id": "9af795eb-84c2-4f11-937c-5f323f5b9910",
   "metadata": {},
   "outputs": [],
   "source": [
    "ensemble_stl_decomp = ensemble_stl_decomp_temp"
   ]
  },
  {
   "cell_type": "code",
   "execution_count": 5,
   "id": "9c242735-6d1f-4312-b200-323d58240d8d",
   "metadata": {},
   "outputs": [
    {
     "data": {
      "text/plain": [
       "(8, 3, 456, 392, 504)"
      ]
     },
     "execution_count": 5,
     "metadata": {},
     "output_type": "execute_result"
    }
   ],
   "source": [
    "ensemble_stl_decomp_temp.shape"
   ]
  }
 ],
 "metadata": {
  "kernelspec": {
   "display_name": "cordex-analysis-env",
   "language": "python",
   "name": "cordex-analysis-env"
  },
  "language_info": {
   "codemirror_mode": {
    "name": "ipython",
    "version": 3
   },
   "file_extension": ".py",
   "mimetype": "text/x-python",
   "name": "python",
   "nbconvert_exporter": "python",
   "pygments_lexer": "ipython3",
   "version": "3.7.8"
  }
 },
 "nbformat": 4,
 "nbformat_minor": 5
}
