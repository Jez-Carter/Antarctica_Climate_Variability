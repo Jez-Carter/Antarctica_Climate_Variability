{
 "cells": [
  {
   "cell_type": "code",
   "execution_count": 1,
   "id": "1545701c-085f-414f-8117-4c9066fd70db",
   "metadata": {},
   "outputs": [],
   "source": [
    "import os\n",
    "import numpy as np\n",
    "import numpy.ma as ma\n",
    "import pandas as pd\n",
    "import iris\n",
    "import matplotlib.pyplot as plt\n",
    "os.environ[\"PROJ_LIB\"] = \"C:\\\\Utilities\\\\Python\\\\Anaconda\\\\Library\\\\share\"; #fixr\n",
    "from mpl_toolkits.basemap import Basemap\n",
    "from mpl_toolkits.axes_grid1 import make_axes_locatable\n",
    "from textwrap import wrap\n",
    "from src.ploter_functions import difference_to_ensemble_plot \n",
    "from src.ploter_functions import correlation_table \n",
    "from src.ploter_functions import rmsd_table "
   ]
  },
  {
   "cell_type": "code",
   "execution_count": 2,
   "id": "868bea18-c0fe-43b3-8e5e-2d4bdf300a88",
   "metadata": {},
   "outputs": [],
   "source": [
    "results_figures_path = '/home/users/carter10/Antarctica_Climate_Variability/results/Paper_Figures/'"
   ]
  },
  {
   "cell_type": "markdown",
   "id": "1e47fcd3-b149-45d9-9a7f-63843861aca2",
   "metadata": {
    "jp-MarkdownHeadingCollapsed": true,
    "tags": []
   },
   "source": [
    "# Figures"
   ]
  },
  {
   "cell_type": "code",
   "execution_count": null,
   "id": "4ae17452-c4f5-4213-9817-405b01006cb8",
   "metadata": {},
   "outputs": [],
   "source": [
    "input_path = '/home/users/carter10/Shared_Storage/Antarctica_Climate_Variability/Ensemble_Array_Data/'\n",
    "mask_path = '/home/users/carter10/Shared_Storage/Antarctica_Climate_Variability/Mask_Data/'\n",
    "grid_cube_path = '/home/users/carter10/Shared_Storage/Antarctica_Climate_Variability/Postprocessed_Data/MetUM_011_ERA_INT_tas_2000.nc'\n",
    "variables = ['snowfall','temperature','melt']\n",
    "land_only_mask = np.load(f'{mask_path}metum011_grid_land_filter.npy')\n",
    "mean_melt = np.load(f'{input_path}mean_melt.npy')\n",
    "grid_cube = iris.load(grid_cube_path)[0][0]"
   ]
  },
  {
   "cell_type": "code",
   "execution_count": null,
   "id": "579d6a2c-e313-4a29-ad83-19f0396d5e06",
   "metadata": {},
   "outputs": [],
   "source": [
    "models = [0,1,3,5,7] #[0:ERAI,1:ERA5,2:MetUM(044),3:MetUM(011),4:MAR(ERAI),5:MAR(ERA5),6:RACMO(ERAI),7:RACMO(ERA5)]\n",
    "vmin=-3\n",
    "vmax=3\n",
    "label_xy = [.01,.02]\n",
    "title_height = 0.96\n",
    "row_xy = [-0.05,0.5]\n",
    "col_titles = ['Mean','Seasonal Standard Deviation','Residual Standard Deviation']\n",
    "row_titles = ['ERA-Interim','ERA5','MetUM(011)','MAR(ERA5)', 'RACMO(ERA5)']\n",
    "labels = ['(a)','(b)','(c)','(d)','(e)','(f)','(g)','(h)','(i)','(j)','(k)','(l)','(m)','(n)','(o)']"
   ]
  },
  {
   "cell_type": "code",
   "execution_count": null,
   "id": "f5c5487f-a92e-490b-868a-38239ceb215a",
   "metadata": {},
   "outputs": [],
   "source": [
    "variable = variables[0] \n",
    "\n",
    "antarctica_map = Basemap(width=6000000,height=5000000,projection='laea',lat_ts=-55,lat_0=-90,lon_0=0,resolution='l')\n",
    "cm = 1/2.54  # centimeters in inches\n",
    "fig, ax = plt.subplots(5, 3, sharex='col',dpi= 300, sharey='row',figsize=(17.7*cm,22.3*cm))\n",
    "fig.subplots_adjust(hspace=0.01, wspace=0.015)\n",
    "\n",
    "difference_to_ensemble_plot(input_path,antarctica_map,vmin,vmax,variable,models,grid_cube,land_only_mask,mean_melt)\n",
    "\n",
    "fig.subplots_adjust(bottom=0.02)\n",
    "cax = fig.add_axes([0.13, 0.0, 0.77, 0.01]) #left,bottom,width,height\n",
    "cbar = plt.colorbar(cax=cax,orientation=\"horizontal\")\n",
    "cbar.ax.tick_params(labelsize=6)\n",
    "\n",
    "colorbar_label = \"\\n\".join(wrap('Proportional Difference to Ensemble Average', 100))\n",
    "cbar.set_label(colorbar_label,labelpad=3,fontsize=6)\n",
    "\n",
    "for axis,label in zip(plt.gcf().get_axes(),labels):\n",
    "    [x.set_linewidth(0.5) for x in axis.spines.values()] #Setting border line width\n",
    "    axis.annotate(label,xy=(label_xy[0],label_xy[1]),xycoords='axes fraction',fontsize=6) # Setting labels\n",
    "for axis,coltitle in zip(plt.gcf().get_axes(),col_titles):\n",
    "    axis.set_title(coltitle,loc='center',y=title_height,fontsize=6) # Setting column titles\n",
    "for axis,rowtitle in zip(plt.gcf().get_axes()[::3],row_titles):\n",
    "    axis.annotate(rowtitle,xy=(row_xy[0],row_xy[1]),xycoords='axes fraction',fontsize=6,rotation=90,va='center') # Setting row titles\n",
    "    \n",
    "fig.savefig(f'{results_figures_path}fig04test.png',dpi=300,bbox_inches='tight')"
   ]
  },
  {
   "cell_type": "markdown",
   "id": "cab7745f-18bc-4a67-93f8-de07a78325cd",
   "metadata": {},
   "source": [
    "# Tables"
   ]
  },
  {
   "cell_type": "code",
   "execution_count": null,
   "id": "a2569987-a287-4b92-8c40-256bca4adba3",
   "metadata": {},
   "outputs": [],
   "source": [
    "input_path = '/home/users/carter10/Shared_Storage/Antarctica_Climate_Variability/Ensemble_Array_Data/'\n",
    "mask_path = '/home/users/carter10/Shared_Storage/Antarctica_Climate_Variability/Mask_Data/'\n",
    "grid_cube_path = '/home/users/carter10/Shared_Storage/Antarctica_Climate_Variability/Postprocessed_Data/MetUM_011_ERA_INT_tas_2000.nc'\n",
    "variables = ['temperature','snowfall','melt']\n",
    "components = [0,1,2] # 0=Trend component, 1=Seasonal component, 2=Residual component\n",
    "land_only_mask = np.load(f'{mask_path}metum011_grid_land_filter.npy')\n",
    "mean_melt = np.load(f'{input_path}mean_melt.npy')\n",
    "\n",
    "correlation_table(input_path,variables,components,land_only_mask,mean_melt)"
   ]
  },
  {
   "cell_type": "code",
   "execution_count": null,
   "id": "a96d03c1-4ab0-4780-9a3e-9702c4d05d3b",
   "metadata": {},
   "outputs": [],
   "source": [
    "input_path = '/home/users/carter10/Shared_Storage/Antarctica_Climate_Variability/Ensemble_Array_Data/'\n",
    "mask_path = '/home/users/carter10/Shared_Storage/Antarctica_Climate_Variability/Mask_Data/'\n",
    "grid_cube_path = '/home/users/carter10/Shared_Storage/Antarctica_Climate_Variability/Postprocessed_Data/MetUM_011_ERA_INT_tas_2000.nc'\n",
    "variables = ['temperature','snowfall','melt']\n",
    "components = [0,1,2] # 0=Trend component, 1=Seasonal component, 2=Residual component\n",
    "land_only_mask = np.load(f'{mask_path}metum011_grid_land_filter.npy')\n",
    "mean_melt = np.load(f'{input_path}mean_melt.npy')\n",
    "\n",
    "rmsd_table(input_path,variables,land_only_mask,mean_melt"
   ]
  }
 ],
 "metadata": {
  "kernelspec": {
   "display_name": "cordex-analysis-env",
   "language": "python",
   "name": "cordex-analysis-env"
  },
  "language_info": {
   "codemirror_mode": {
    "name": "ipython",
    "version": 3
   },
   "file_extension": ".py",
   "mimetype": "text/x-python",
   "name": "python",
   "nbconvert_exporter": "python",
   "pygments_lexer": "ipython3",
   "version": "3.7.8"
  }
 },
 "nbformat": 4,
 "nbformat_minor": 5
}
